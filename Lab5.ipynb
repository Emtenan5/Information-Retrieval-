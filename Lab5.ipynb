{
  "nbformat": 4,
  "nbformat_minor": 0,
  "metadata": {
    "colab": {
      "provenance": [],
      "authorship_tag": "ABX9TyNLi3QQxOawu0BsKlK8VuPU",
      "include_colab_link": true
    },
    "kernelspec": {
      "name": "python3",
      "display_name": "Python 3"
    },
    "language_info": {
      "name": "python"
    }
  },
  "cells": [
    {
      "cell_type": "markdown",
      "metadata": {
        "id": "view-in-github",
        "colab_type": "text"
      },
      "source": [
        "<a href=\"https://colab.research.google.com/github/Emtenan5/Information-Retrieval-/blob/main/Lab5.ipynb\" target=\"_parent\"><img src=\"https://colab.research.google.com/assets/colab-badge.svg\" alt=\"Open In Colab\"/></a>"
      ]
    },
    {
      "cell_type": "code",
      "execution_count": 11,
      "metadata": {
        "colab": {
          "base_uri": "https://localhost:8080/"
        },
        "id": "uRP2l8m8jU8w",
        "outputId": "273433fd-44db-49c3-a3fd-ddf55673acc5"
      },
      "outputs": [
        {
          "output_type": "stream",
          "name": "stdout",
          "text": [
            "0.5555555555555556\n",
            "['There', 'are', 'many', 'similarity', 'measures', 'used', 'in', 'NLTK', 'package']\n",
            "['There', 'are', 'many', 'similarity', 'measures', 'are', 'avaliable', 'in', 'NLTK']\n"
          ]
        }
      ],
      "source": [
        "from __future__ import print_function\n",
        "from nltk.metrics import *\n",
        "Sentence1='There are many similarity measures used in NLTK package'.split()\n",
        "Sentence2='There are many similarity measures are avaliable in NLTK '.split()\n",
        "print(accuracy(Sentence1,Sentence2))\n",
        "print(Sentence1)\n",
        "print(Sentence2)"
      ]
    },
    {
      "cell_type": "code",
      "source": [
        "from sklearn.metrics import confusion_matrix , classification_report\n",
        "print (classification_report(Sentence1,Sentence2))"
      ],
      "metadata": {
        "colab": {
          "base_uri": "https://localhost:8080/"
        },
        "id": "EYQp1_j1nqQ9",
        "outputId": "d98b4524-f095-47d9-822b-e0d3a2548f22"
      },
      "execution_count": 14,
      "outputs": [
        {
          "output_type": "stream",
          "name": "stdout",
          "text": [
            "              precision    recall  f1-score   support\n",
            "\n",
            "        NLTK       0.00      0.00      0.00         1\n",
            "       There       1.00      1.00      1.00         1\n",
            "         are       0.50      1.00      0.67         1\n",
            "   avaliable       0.00      0.00      0.00         0\n",
            "          in       0.00      0.00      0.00         1\n",
            "        many       1.00      1.00      1.00         1\n",
            "    measures       1.00      1.00      1.00         1\n",
            "     package       0.00      0.00      0.00         1\n",
            "  similarity       1.00      1.00      1.00         1\n",
            "        used       0.00      0.00      0.00         1\n",
            "\n",
            "    accuracy                           0.56         9\n",
            "   macro avg       0.45      0.50      0.47         9\n",
            "weighted avg       0.50      0.56      0.52         9\n",
            "\n"
          ]
        },
        {
          "output_type": "stream",
          "name": "stderr",
          "text": [
            "/usr/local/lib/python3.7/dist-packages/sklearn/metrics/_classification.py:1318: UndefinedMetricWarning: Precision and F-score are ill-defined and being set to 0.0 in labels with no predicted samples. Use `zero_division` parameter to control this behavior.\n",
            "  _warn_prf(average, modifier, msg_start, len(result))\n",
            "/usr/local/lib/python3.7/dist-packages/sklearn/metrics/_classification.py:1318: UndefinedMetricWarning: Recall and F-score are ill-defined and being set to 0.0 in labels with no true samples. Use `zero_division` parameter to control this behavior.\n",
            "  _warn_prf(average, modifier, msg_start, len(result))\n",
            "/usr/local/lib/python3.7/dist-packages/sklearn/metrics/_classification.py:1318: UndefinedMetricWarning: Precision and F-score are ill-defined and being set to 0.0 in labels with no predicted samples. Use `zero_division` parameter to control this behavior.\n",
            "  _warn_prf(average, modifier, msg_start, len(result))\n",
            "/usr/local/lib/python3.7/dist-packages/sklearn/metrics/_classification.py:1318: UndefinedMetricWarning: Recall and F-score are ill-defined and being set to 0.0 in labels with no true samples. Use `zero_division` parameter to control this behavior.\n",
            "  _warn_prf(average, modifier, msg_start, len(result))\n",
            "/usr/local/lib/python3.7/dist-packages/sklearn/metrics/_classification.py:1318: UndefinedMetricWarning: Precision and F-score are ill-defined and being set to 0.0 in labels with no predicted samples. Use `zero_division` parameter to control this behavior.\n",
            "  _warn_prf(average, modifier, msg_start, len(result))\n",
            "/usr/local/lib/python3.7/dist-packages/sklearn/metrics/_classification.py:1318: UndefinedMetricWarning: Recall and F-score are ill-defined and being set to 0.0 in labels with no true samples. Use `zero_division` parameter to control this behavior.\n",
            "  _warn_prf(average, modifier, msg_start, len(result))\n"
          ]
        }
      ]
    },
    {
      "cell_type": "code",
      "source": [
        "import seaborn as sn\n",
        "import pandas as pd\n",
        "import matplotlib.pyplot as plt\n",
        "from sklearn.metrics import confusion_matrix\n",
        "col1=set(Sentence1) \n",
        "col2=set(Sentence2)\n",
        "dic=col1.union(col2)\n",
        "array=confusion_matrix(Sentence1,Sentence2)\n",
        "df_cm = pd.DataFrame(array,index=dic,columns=dic) \n",
        "df_cm\n",
        "plt.figure(figsize = (10,7))\n",
        "sn.heatmap(df_cm, annot=True, annot_kws={\"size\": 16}) "
      ],
      "metadata": {
        "colab": {
          "base_uri": "https://localhost:8080/",
          "height": 488
        },
        "id": "g47EfdwGqH0d",
        "outputId": "34c46521-f584-4a15-a37b-6bef51485956"
      },
      "execution_count": 17,
      "outputs": [
        {
          "output_type": "execute_result",
          "data": {
            "text/plain": [
              "<matplotlib.axes._subplots.AxesSubplot at 0x7f273e564950>"
            ]
          },
          "metadata": {},
          "execution_count": 17
        },
        {
          "output_type": "display_data",
          "data": {
            "text/plain": [
              "<Figure size 720x504 with 2 Axes>"
            ],
            "image/png": "[encoded data removed]"
          },
          "metadata": {
            "needs_background": "light"
          }
        }
      ]
    },
    {
      "cell_type": "code",
      "source": [
        "from __future__ import print_function\n",
        "def _edit_dist_int(len1,len2):\n",
        "  leve = []\n",
        "  for i in range(len1):\n",
        "    lev.append([0]*len2) #initialize 20 array to zero\n",
        "    for i in range(len1):\n",
        "      lev[i][0]=i#column0: 0,1,2,3,4,...\n",
        "      for j in range(len2):\n",
        "        lev[0][j]=j #row 0: 0,1,2,3,4,...\n",
        "        return lev"
      ],
      "metadata": {
        "id": "hfXLjlyLp_c2"
      },
      "execution_count": 18,
      "outputs": []
    },
    {
      "cell_type": "code",
      "source": [
        "def _edit_dist_step(lev,i,j,s1,s2,transpositions=False):\n",
        " c1=s1[i-1]\n",
        " c2=s2[j-1]\n",
        " #skipping a character in s1\n",
        " a=lev[i-1][j]+1\n",
        " #skipping a character in s2\n",
        " b=lev[i][j-1]+1\n",
        " #substitution\n",
        " c=lev[i-1][j-1]+(substitution_cost if c1 !=c2 else 0)\n",
        " #transposition\n",
        " d=c+1 #never picked by default\n",
        " if transpositions and i > 1 and j > 1:\n",
        "   if s1[i-2]==c2 and s2[j-2]==c1:\n",
        "     d=lev[i-2][j-2]+1\n",
        "     #pick the cheapest\n",
        " lev[i][j]= min(a,b,c,d)"
      ],
      "metadata": {
        "id": "HPGbFcSq6W3a"
      },
      "execution_count": 23,
      "outputs": []
    },
    {
      "cell_type": "code",
      "source": [
        "def edit_distance(s1,s2,transpositions=False):\n",
        "  #set up a 2-D array\n",
        "  len1 = len(s1)\n",
        "  len2 = len(s2)\n",
        "  lev = _edit_distance_init(len1 + 1,len2 + 1)\n",
        "  #iterate over the array\n",
        "  for i in range(len1):\n",
        "    for j in range(len2):\n",
        "      _edit_dist_step(lev,i,j,s1,s2,transpositions=transpositions)\n",
        "  return lev[len1][len2]"
      ],
      "metadata": {
        "id": "LmIY5BMh-Ekr"
      },
      "execution_count": 25,
      "outputs": []
    },
    {
      "cell_type": "code",
      "source": [
        "import nltk\n",
        "from nltk.metrics import *\n",
        "dis = edit_distance(\"suggestion\",\"calculation\")\n",
        "print(dis)"
      ],
      "metadata": {
        "colab": {
          "base_uri": "https://localhost:8080/"
        },
        "id": "kKejPjeB-yjk",
        "outputId": "b67f59ef-b550-4972-8dc2-4a4667864a76"
      },
      "execution_count": 27,
      "outputs": [
        {
          "output_type": "stream",
          "name": "stdout",
          "text": [
            "7\n"
          ]
        }
      ]
    },
    {
      "cell_type": "code",
      "source": [
        "def jacc_similarity(query, document):\n",
        " first=set(query).intersection(set(document))\n",
        " second=set(query).union(set(document))\n",
        " return len(first)/len(second) \n",
        "x = input('enter a sentense:').split()\n",
        "query=set(x)\n",
        "document = set(Sentence2)\n",
        "print (jaccard_distance(query,document))"
      ],
      "metadata": {
        "colab": {
          "base_uri": "https://localhost:8080/"
        },
        "id": "ncgNlEz3AQB_",
        "outputId": "60a53658-a1fe-46b6-93b4-cbc7469201cc"
      },
      "execution_count": 28,
      "outputs": [
        {
          "output_type": "stream",
          "name": "stdout",
          "text": [
            "enter a sentense: Jaccard's Coefficient\n",
            "1.0\n"
          ]
        }
      ]
    },
    {
      "cell_type": "code",
      "source": [
        "def binary_distance(label1, label2): \n",
        " return 0.0 if label1 == label2 else 1.0\n",
        " x=set(Sentence1)\n",
        " Y=set(Sentence2)\n",
        " binary_distance(X, Y)"
      ],
      "metadata": {
        "id": "2fHoLgChDKD_"
      },
      "execution_count": 30,
      "outputs": []
    },
    {
      "cell_type": "code",
      "source": [
        "def masi(label1, label2): \n",
        " len_intersection = len(label1.intersection(label2)) \n",
        " len_union = len(label1.union(label2)) \n",
        " len_label1 = len(label1) \n",
        " len_label2 = len(label2) \n",
        "\n",
        " if len_label1 == len_label2 and len_label1 == len_intersection:\n",
        "    m = 1\n",
        " elif len_intersection == min(len_label1, len_label2): \n",
        "   m = 0.67\n",
        " elif len_intersection > 0:\n",
        "    m = 0.33\n",
        " else:\n",
        "    m = 0\n",
        " return 1 - (len_intersection / float(len_union)) * m \n",
        "X=set([10,20,30,40]) \n",
        "Y=set([30,50,70]) \n",
        "masi(X, Y)"
      ],
      "metadata": {
        "colab": {
          "base_uri": "https://localhost:8080/"
        },
        "id": "NkMdFskHDjK0",
        "outputId": "1c41f4ac-c179-44fe-d87e-765eb635c830"
      },
      "execution_count": 31,
      "outputs": [
        {
          "output_type": "execute_result",
          "data": {
            "text/plain": [
              "0.945"
            ]
          },
          "metadata": {},
          "execution_count": 31
        }
      ]
    }
  ]
}